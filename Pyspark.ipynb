{
 "cells": [
  {
   "cell_type": "code",
   "execution_count": 2,
   "id": "c28147f5",
   "metadata": {},
   "outputs": [],
   "source": [
    "import findspark\n",
    "findspark.init()\n",
    "from pyspark.sql import SparkSession"
   ]
  },
  {
   "cell_type": "code",
   "execution_count": 5,
   "id": "a496eb44",
   "metadata": {},
   "outputs": [],
   "source": [
    "spark = SparkSession.builder.appName('interview questions').getOrCreate()"
   ]
  },
  {
   "cell_type": "code",
   "execution_count": 8,
   "id": "3d9e971b",
   "metadata": {},
   "outputs": [
    {
     "data": {
      "text/html": [
       "\n",
       "            <div>\n",
       "                <p><b>SparkSession - in-memory</b></p>\n",
       "                \n",
       "        <div>\n",
       "            <p><b>SparkContext</b></p>\n",
       "\n",
       "            <p><a href=\"http://DESKTOP-DOT595I:4040\">Spark UI</a></p>\n",
       "\n",
       "            <dl>\n",
       "              <dt>Version</dt>\n",
       "                <dd><code>v3.0.3</code></dd>\n",
       "              <dt>Master</dt>\n",
       "                <dd><code>local[*]</code></dd>\n",
       "              <dt>AppName</dt>\n",
       "                <dd><code>interview questions</code></dd>\n",
       "            </dl>\n",
       "        </div>\n",
       "        \n",
       "            </div>\n",
       "        "
      ],
      "text/plain": [
       "<pyspark.sql.session.SparkSession at 0x207d8de4430>"
      ]
     },
     "execution_count": 8,
     "metadata": {},
     "output_type": "execute_result"
    }
   ],
   "source": [
    "spark"
   ]
  },
  {
   "cell_type": "code",
   "execution_count": 46,
   "id": "7b5b9031",
   "metadata": {},
   "outputs": [],
   "source": [
    "data  = [\n",
    "    [1,'nithya','menon'],\n",
    "    [2,'akansha','bhargawa'],\n",
    "    [3,'manisha','sati']\n",
    "]\n",
    "columns=(['ser_no','firstname','lastname'])\n",
    "newdf = spark.createDataFrame(data,columns)\n"
   ]
  },
  {
   "cell_type": "code",
   "execution_count": 47,
   "id": "6f699172",
   "metadata": {},
   "outputs": [],
   "source": [
    "data2 =  [\n",
    "    [1,'roman','regin'],\n",
    "    [2,'cm','punk'],\n",
    "    [3,'pooja','hedge']\n",
    "]\n",
    "columns2 = ['ser_no','firstname','lastname']\n",
    "newdf2 = spark.createDataFrame(data2,columns2)"
   ]
  },
  {
   "cell_type": "code",
   "execution_count": 49,
   "id": "36492e69",
   "metadata": {},
   "outputs": [
    {
     "name": "stdout",
     "output_type": "stream",
     "text": [
      "+------+---------+--------+\n",
      "|ser_no|firstname|lastname|\n",
      "+------+---------+--------+\n",
      "|     1|   nithya|   menon|\n",
      "|     2|  akansha|bhargawa|\n",
      "|     3|  manisha|    sati|\n",
      "+------+---------+--------+\n",
      "\n",
      "+------+---------+--------+\n",
      "|ser_no|firstname|lastname|\n",
      "+------+---------+--------+\n",
      "|     1|    roman|   regin|\n",
      "|     2|       cm|    punk|\n",
      "|     3|    pooja|   hedge|\n",
      "+------+---------+--------+\n",
      "\n"
     ]
    },
    {
     "data": {
      "text/plain": [
       "DataFrame[ser_no: bigint, firstname: string, lastname: string]"
      ]
     },
     "execution_count": 49,
     "metadata": {},
     "output_type": "execute_result"
    }
   ],
   "source": [
    "newdf.show()\n",
    "newdf2.show()\n",
    "\n",
    "newdf.union(newdf2)"
   ]
  },
  {
   "cell_type": "code",
   "execution_count": 50,
   "id": "c5a1bdf5",
   "metadata": {},
   "outputs": [
    {
     "name": "stdout",
     "output_type": "stream",
     "text": [
      "+------+---------+--------+\n",
      "|ser_no|firstname|lastname|\n",
      "+------+---------+--------+\n",
      "|     1|   nithya|   menon|\n",
      "|     2|  akansha|bhargawa|\n",
      "|     3|  manisha|    sati|\n",
      "|     1|    roman|   regin|\n",
      "|     2|       cm|    punk|\n",
      "|     3|    pooja|   hedge|\n",
      "+------+---------+--------+\n",
      "\n"
     ]
    }
   ],
   "source": [
    "newuniondf = newdf.union(newdf2)\n",
    "newuniondf.show()"
   ]
  },
  {
   "cell_type": "code",
   "execution_count": 11,
   "id": "78bdef73",
   "metadata": {},
   "outputs": [],
   "source": [
    "text_file = spark.sparkContext.textFile(\"C:/Users/W10/Desktop/sparkTxt/onemillion.txt\")"
   ]
  },
  {
   "cell_type": "code",
   "execution_count": 13,
   "id": "3b317b8c",
   "metadata": {},
   "outputs": [
    {
     "data": {
      "text/plain": [
       "['Hi i am prathmesh futane trying to learn apache spark.',\n",
       " 'apache spark is good big data processing framework.']"
      ]
     },
     "execution_count": 13,
     "metadata": {},
     "output_type": "execute_result"
    }
   ],
   "source": [
    "text_file.collect()"
   ]
  },
  {
   "cell_type": "code",
   "execution_count": 28,
   "id": "2b49c264",
   "metadata": {},
   "outputs": [],
   "source": [
    "x2 = text_file.flatMap(lambda line: line.split(\" \")) \\\n",
    "                            .map(lambda word: (word, 1)) \\\n",
    "                           .reduceByKey(lambda x, y: x + y)"
   ]
  },
  {
   "cell_type": "code",
   "execution_count": 30,
   "id": "cc2120a9",
   "metadata": {},
   "outputs": [],
   "source": [
    "s3 = text_file.flatMap(lambda line: line.split(\" \"))"
   ]
  },
  {
   "cell_type": "code",
   "execution_count": 37,
   "id": "cc193323",
   "metadata": {},
   "outputs": [
    {
     "data": {
      "text/plain": [
       "[('Hi', 1),\n",
       " ('i', 1),\n",
       " ('am', 1),\n",
       " ('prathmesh', 1),\n",
       " ('trying', 1),\n",
       " ('spark.', 1),\n",
       " ('is', 1),\n",
       " ('good', 1),\n",
       " ('futane', 1),\n",
       " ('to', 1),\n",
       " ('learn', 1),\n",
       " ('apache', 2),\n",
       " ('spark', 1),\n",
       " ('big', 1),\n",
       " ('data', 1),\n",
       " ('processing', 1),\n",
       " ('framework.', 1)]"
      ]
     },
     "execution_count": 37,
     "metadata": {},
     "output_type": "execute_result"
    }
   ],
   "source": [
    "s4 = text_file.flatMap(lambda line: line.split(\" \"))\\\n",
    "                .map(lambda word: (word,1))\\\n",
    "                .reduceByKey(lambda x,y:x+y)\n",
    "s4.collect()"
   ]
  },
  {
   "cell_type": "code",
   "execution_count": null,
   "id": "8c267876",
   "metadata": {},
   "outputs": [],
   "source": [
    "\n"
   ]
  },
  {
   "cell_type": "code",
   "execution_count": null,
   "id": "a81445e5",
   "metadata": {},
   "outputs": [],
   "source": []
  },
  {
   "cell_type": "code",
   "execution_count": null,
   "id": "cc360a05",
   "metadata": {},
   "outputs": [],
   "source": []
  }
 ],
 "metadata": {
  "kernelspec": {
   "display_name": "Python 3 (ipykernel)",
   "language": "python",
   "name": "python3"
  },
  "language_info": {
   "codemirror_mode": {
    "name": "ipython",
    "version": 3
   },
   "file_extension": ".py",
   "mimetype": "text/x-python",
   "name": "python",
   "nbconvert_exporter": "python",
   "pygments_lexer": "ipython3",
   "version": "3.10.5"
  }
 },
 "nbformat": 4,
 "nbformat_minor": 5
}
